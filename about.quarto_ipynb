{
  "cells": [
    {
      "cell_type": "markdown",
      "metadata": {},
      "source": [
        "---\n",
        "title: \"About\"\n",
        "\n",
        "jupyter: python3\n",
        "\n",
        "about:\n",
        "  id: hero-heading\n",
        "  template: jolla\n",
        "  links:\n",
        "    - icon: github\n",
        "      text: Github\n",
        "      href: https://github.com/UNL-Hawkins-Lab/Hawkinslab\n",
        "\n",
        "---"
      ],
      "id": "f1de5f29"
    }
  ],
  "metadata": {
    "kernelspec": {
      "name": "python3",
      "language": "python",
      "display_name": "Python 3 (ipykernel)",
      "path": "C:\\Users\\jfhaw\\Documents\\hawkins-tech-lab.github.io\\.venv\\share\\jupyter\\kernels\\python3"
    }
  },
  "nbformat": 4,
  "nbformat_minor": 5
}